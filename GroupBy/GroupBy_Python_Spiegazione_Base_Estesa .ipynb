{
 "cells": [
  {
   "cell_type": "markdown",
   "metadata": {},
   "source": [
    "Una delle applicazioni più interessanti di Pandas è sicuramente la possibilità di aggregare dei dati secondo determinati criteri ed effettuare delle operazioni come il calcolo della media, la somma, o il valore cumulato su questi dati aggregati. \n",
    "\n",
    "Ad esempio abbiamo i dati su altezza, sesso di una classe di studenti di un liceo disposti all'interno di una tabella e vogliamo calcolare l'altezza media dei ragazzi e delle ragazze. \n",
    "\n",
    "Questa operazione di suddivisione in gruppi (maschio-femmina), calcolo del valore medio e aggregazione dei risultati in una nuova tabella può essere fatto in python con estrema facilità.\n",
    "\n",
    "E' evidente la similarità con SQL ed i database relazionali, dove è possibile filtrare, unire ed aggregare diverse tipologie e fonti di dati. \n",
    "\n",
    "In Python, con Pandas, queste operazioni possono essere effettuate grazie alla classe GroupBy\n",
    "La filosofia che c'è dietro la classe è \"Split -> Apply -> Combine\".\n",
    "\n",
    "Spiego meglio:\n",
    "\n",
    "1) Split-Suddividere il nostro set di dati originale in gruppi secondo determinati criteri\n",
    "\n",
    "2) Applying- Applicare separatamente ad ogni gruppo una funzione (somma-media ecc)\n",
    "\n",
    "3) Combining- Riorganizzare i dati aggregati \n",
    "\n",
    "Sul mio profilo Git Hub trovate il .csv se volete allenarvi con questo piccolo dataset.\n",
    "\n",
    "Vi consiglio di riprodurre sul vostro notebook il codice in questo modo l'argomento sarà di più facile comprensione."
   ]
  },
  {
   "cell_type": "code",
   "execution_count": 1,
   "metadata": {},
   "outputs": [],
   "source": [
    "#Importiamo i moduli necessari\n",
    "import pandas as pd \n",
    "import matplotlib.pyplot as plt\n",
    "import numpy as np"
   ]
  },
  {
   "cell_type": "code",
   "execution_count": 2,
   "metadata": {},
   "outputs": [
    {
     "name": "stdout",
     "output_type": "stream",
     "text": [
      "Numero di registrazioni: 105\n",
      "\n",
      "   Index  Year  Month  Day       Time               Length       Start  \\\n",
      "0  10033  2019      1    9   22:28:22  1900-01-01 00:25:00  1547069302   \n",
      "1  10058  2019      1   11   13:06:02  1900-01-01 00:25:00  1547208362   \n",
      "2  10085  2019      1   12   18:36:11  1900-01-01 00:25:00  1547314571   \n",
      "3  10086  2019      1   12   19:06:11  1900-01-01 00:25:00  1547316371   \n",
      "4  10112  2019      1   14   19:43:36  1900-01-01 00:25:00  1547491416   \n",
      "\n",
      "          End                   Activity                 Date main_activity  \\\n",
      "0  1547070802   +Lettura @lasincronicità  2019-01-09 00:00:00     +Lettura    \n",
      "1  1547209862       +Lettura @quotidiano  2019-01-11 00:00:00     +Lettura    \n",
      "2  1547316071   +Lettura @lasincronicità  2019-01-12 00:00:00     +Lettura    \n",
      "3  1547317871   +Lettura @lasincronicità  2019-01-12 00:00:00     +Lettura    \n",
      "4  1547492916   +Lettura @lasincronicità  2019-01-14 00:00:00     +Lettura    \n",
      "\n",
      "     sub_activity  \n",
      "0  lasincronicità  \n",
      "1      quotidiano  \n",
      "2  lasincronicità  \n",
      "3  lasincronicità  \n",
      "4  lasincronicità  \n"
     ]
    }
   ],
   "source": [
    "#Carichiamo e leggiamo il csv\n",
    "csvname=\"reading_pomodoro_records.csv\"\n",
    "#definiamo le colonne\n",
    "columns_name=['Index','Year', 'Month', 'Day', 'Time', 'Length', 'Start', 'End', 'Activity', 'Date','main_activity','sub_activity']\n",
    "#Saltiamo la prima riga contentente i titoli delle colonne del dataframe\n",
    "#Attraverso l'argomento skiprows\n",
    "df=pd.read_csv(csvname,names=columns_name,sep=',',skiprows=1, index_col=False)\n",
    "#visualizziamo l'inizio del csv \n",
    "#per capire come è definito\n",
    "print('Numero di registrazioni:',len(df))\n",
    "print()\n",
    "print(df.head())"
   ]
  },
  {
   "cell_type": "markdown",
   "metadata": {},
   "source": [
    "Ogni record dalla colonna \"Length\" si può notare dura 25 minuti. \n",
    "\n",
    "Quello che andrò a fare con questo esempio è capire per ogni libro presente nella colonna \"sub_activity\" quanti sono i record associati (o quanto tempo ho dedicato ad ogni libro). \n",
    "\n",
    "Per fare questo quindi divido i record in vari gruppi che dipendono dalla colonna sub_activity ed applico una funzione di conteggio.\n",
    "\n",
    "La colonna \"sub_activity\" sarà la chiave (key) in base alla quale aggregare i risultati.\n",
    "\n",
    "Una volta caricato il nostro dataset possiamo instanziare l'oggetto groupby ed eseguire tutte le operazioni per l'analisi che vogliamo effettuare. \n",
    "\n",
    "In questo esempio la nostra Key o chiave è una colonna del dataframe stesso. \n",
    "\n",
    "Ma in generale può essre: \n",
    "\n",
    "1) Una lista o un array di valori della liunghezza dell'asse che verrà aggregato\n",
    "\n",
    "2) Una colonna del DataFrame\n",
    "\n",
    "3) Una Series o un Dizionario \n",
    "\n",
    "4) una funzione che viene invocata \n"
   ]
  },
  {
   "cell_type": "code",
   "execution_count": 3,
   "metadata": {},
   "outputs": [
    {
     "name": "stdout",
     "output_type": "stream",
     "text": [
      "Conteggio registrazioni:\n",
      "sub_activity\n",
      "Libro RichDadPoorDad     3\n",
      "ServiceDesign            4\n",
      "ThinkingFastAndSlow     84\n",
      "lasincronicità          10\n",
      "quotidianihbr            3\n",
      "quotidiano               1\n",
      "Name: Activity, dtype: int64\n",
      "Le registrazioni per ogni libro sono state:\n",
      "sub_activity\n",
      "ThinkingFastAndSlow     84\n",
      "lasincronicità          10\n",
      "ServiceDesign            4\n",
      "quotidianihbr            3\n",
      "Libro RichDadPoorDad     3\n",
      "quotidiano               1\n",
      "Name: Activity, dtype: int64\n",
      "Le ore dedicate ad ogni libro sono state:\n",
      "sub_activity\n",
      "ThinkingFastAndSlow     42.0\n",
      "lasincronicità           5.0\n",
      "ServiceDesign            2.0\n",
      "quotidianihbr            1.5\n",
      "Libro RichDadPoorDad     1.5\n",
      "quotidiano               0.5\n",
      "Name: Activity, dtype: float64\n"
     ]
    }
   ],
   "source": [
    "oggetto_groupby=df['Activity'].groupby(df['sub_activity'])\n",
    "#Contiamo il numero di registrazioni effettuate \n",
    "conteggio_record=oggetto_groupby.count()\n",
    "print('Conteggio registrazioni:')\n",
    "print(conteggio_record)\n",
    "#In ordine decrescente visualizziamo il risultato della nostra operazione\n",
    "conteggio_ordinato=conteggio_record.sort_values(ascending=False)\n",
    "#Visualizzaimo il risultato\n",
    "print('Le registrazioni per ogni libro sono state:')\n",
    "print(conteggio_ordinato)\n",
    "#Ricordando che ogni registrazione \n",
    "#Corrisponde a 25 minuti \n",
    "#Perchè basato sulla tecnica del pomodoro \n",
    "#Possiamo  conoscere le ore \n",
    "#Dividendo il nostro risultato per due\n",
    "conteggio_ordinato_diviso=conteggio_ordinato.divide(2)\n",
    "print('Le ore dedicate ad ogni libro sono state:')\n",
    "print(conteggio_ordinato_diviso)"
   ]
  },
  {
   "cell_type": "code",
   "execution_count": 4,
   "metadata": {
    "scrolled": false
   },
   "outputs": [
    {
     "data": {
      "text/plain": [
       "Text(0.5, 1.0, 'Ore dedicate e Libri letti ')"
      ]
     },
     "execution_count": 4,
     "metadata": {},
     "output_type": "execute_result"
    },
    {
     "data": {
      "image/png": "[encoded data removed]",
      "text/plain": [
       "<Figure size 432x288 with 1 Axes>"
      ]
     },
     "metadata": {
      "needs_background": "light"
     },
     "output_type": "display_data"
    }
   ],
   "source": [
    "fig= plt.figure()\n",
    "conteggio_ordinato_diviso.plot.barh( color='r', alpha=0.8)\n",
    "\n",
    "plt.title('Ore dedicate e Libri letti ')\n"
   ]
  },
  {
   "cell_type": "markdown",
   "metadata": {},
   "source": [
    "Ovviamente potete effettuare sul dataset anche altre operazioni come il calcolo della media \n",
    "Nei prossimi articoli sarò meno teorico \n",
    "e pubblicherò \"delle ricette\"\n",
    "che ho trovato utili \n",
    "per le mie analisi su stack overflow  \n",
    "e magari possono essere utili anche a voi. "
   ]
  },
  {
   "cell_type": "code",
   "execution_count": null,
   "metadata": {},
   "outputs": [],
   "source": []
  }
 ],
 "metadata": {
  "kernelspec": {
   "display_name": "Python 3",
   "language": "python",
   "name": "python3"
  },
  "language_info": {
   "codemirror_mode": {
    "name": "ipython",
    "version": 3
   },
   "file_extension": ".py",
   "mimetype": "text/x-python",
   "name": "python",
   "nbconvert_exporter": "python",
   "pygments_lexer": "ipython3",
   "version": "3.6.4"
  }
 },
 "nbformat": 4,
 "nbformat_minor": 2
}
